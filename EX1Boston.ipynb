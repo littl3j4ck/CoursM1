{
 "cells": [
  {
   "cell_type": "code",
   "execution_count": 1,
   "metadata": {},
   "outputs": [],
   "source": [
    "boston['feature_names']\n",
    "crim= x[:,0]\n",
    "plt.plot(crim,y, 'bo')\n",
    "plt.plot(np.log(crim),y,'bx')\n",
    "def min_max(X):\n",
    "    X=(X-np.min(X))/(np.max(X)-np.min(X))\n",
    "    return X\n",
    "\n",
    "Norm_y= min_max(y)\n",
    "plt.plot(np.log(crim),Norm_y,'bx')\n",
    "model = LinearRegression()\n",
    "model.fit(crim[:300].reshape(-1, 1),y[:300])\n",
    "model.coef_\n",
    "model.intercept_\n",
    "prediction = model.predict(crim[:300].reshape(-1,1))\n",
    "plt.plot(crim[:300],prediction,'rx')"
   ]
  },
  {
   "cell_type": "code",
   "execution_count": 1,
   "metadata": {},
   "outputs": [],
   "source": [
    "#import des librairies nécessaires\n",
    "import matplotlib.pyplot as plt\n",
    "import numpy as np\n",
    "from sklearn.datasets import load_boston\n",
    "from sklearn.linear_model import LassoCV,LinearRegression"
   ]
  },
  {
   "cell_type": "code",
   "execution_count": 2,
   "metadata": {},
   "outputs": [],
   "source": [
    "#on charge le dictionnaire boston\n",
    "boston = load_boston()"
   ]
  },
  {
   "cell_type": "code",
   "execution_count": 3,
   "metadata": {},
   "outputs": [
    {
     "data": {
      "text/plain": [
       "dict_keys(['data', 'target', 'feature_names', 'DESCR'])"
      ]
     },
     "execution_count": 3,
     "metadata": {},
     "output_type": "execute_result"
    }
   ],
   "source": [
    "#découverte du dictionnaire:\n",
    "#les keys:\n",
    "boston.keys()"
   ]
  },
  {
   "cell_type": "code",
   "execution_count": 4,
   "metadata": {},
   "outputs": [
    {
     "data": {
      "text/plain": [
       "array(['CRIM', 'ZN', 'INDUS', 'CHAS', 'NOX', 'RM', 'AGE', 'DIS', 'RAD',\n",
       "       'TAX', 'PTRATIO', 'B', 'LSTAT'], dtype='<U7')"
      ]
     },
     "execution_count": 4,
     "metadata": {},
     "output_type": "execute_result"
    }
   ],
   "source": [
    "#on explore les différents champs:\n",
    "#feature-names est le nom des \"colonnes\"\n",
    "boston['feature_names'] \n",
    "#boston['DESCR'] permet d'afficher la description du dictionnaire\n",
    "#boston['filename'] # permet de connaitre le chemin du fichier"
   ]
  },
  {
   "cell_type": "code",
   "execution_count": 6,
   "metadata": {},
   "outputs": [],
   "source": [
    "#dans le cadre de l'exercice, il nous faut le champ 'data' qui sera X et 'target' qui sera Y\n",
    "#dans le cas de notre algo, Y est ce que on recherche, ce que on cherche à obtenir. X est le jeu de données qui nous permettra de determiner via extrapolition Y\n",
    "X=boston['data']\n",
    "Y=boston['target']\n"
   ]
  },
  {
   "cell_type": "code",
   "execution_count": 11,
   "metadata": {},
   "outputs": [
    {
     "data": {
      "text/plain": [
       "(506, 13)"
      ]
     },
     "execution_count": 11,
     "metadata": {},
     "output_type": "execute_result"
    }
   ],
   "source": [
    "#on récupère les infos de X:\n",
    "X.shape"
   ]
  },
  {
   "cell_type": "code",
   "execution_count": 12,
   "metadata": {},
   "outputs": [
    {
     "data": {
      "text/plain": [
       "(506,)"
      ]
     },
     "execution_count": 12,
     "metadata": {},
     "output_type": "execute_result"
    }
   ],
   "source": [
    "#on récupère les infos de Y:\n",
    "Y.shape"
   ]
  },
  {
   "cell_type": "code",
   "execution_count": 13,
   "metadata": {},
   "outputs": [
    {
     "data": {
      "image/png": "[encoded data removed]",
      "text/plain": [
       "<Figure size 432x288 with 1 Axes>"
      ]
     },
     "metadata": {
      "needs_background": "light"
     },
     "output_type": "display_data"
    }
   ],
   "source": [
    "#nous devons désormais effectué un graph entre Y (target) et CRIM. CRIM étant une colonne de de X, on le récupère:\n",
    "crim=X[:,0]\n",
    "#le format dans le cas de ce dictionnaire pour récupérer les infos, le \":,0\" permet de dire que on récupère toute les lignes depuis le début de la colonne en position 0 de X, \n",
    "#donc CRIM\n",
    "#il ne reste plus que à faire le plot\n",
    "plt.plot(crim,Y,'bo')\n",
    "plt.xlabel(\"CRIM\")\n",
    "plt.ylabel(\"y\")\n",
    "plt.show()"
   ]
  },
  {
   "cell_type": "code",
   "execution_count": 17,
   "metadata": {},
   "outputs": [
    {
     "ename": "NameError",
     "evalue": "name 'log_crim' is not defined",
     "output_type": "error",
     "traceback": [
      "\u001b[0;31m---------------------------------------------------------------------------\u001b[0m",
      "\u001b[0;31mNameError\u001b[0m                                 Traceback (most recent call last)",
      "\u001b[0;32m<ipython-input-17-0c6d10dec88a>\u001b[0m in \u001b[0;36m<module>\u001b[0;34m()\u001b[0m\n\u001b[1;32m      2\u001b[0m \u001b[0mLog_crim\u001b[0m\u001b[0;34m=\u001b[0m\u001b[0mnp\u001b[0m\u001b[0;34m.\u001b[0m\u001b[0mlog\u001b[0m\u001b[0;34m(\u001b[0m\u001b[0mcrim\u001b[0m\u001b[0;34m)\u001b[0m\u001b[0;34m\u001b[0m\u001b[0m\n\u001b[1;32m      3\u001b[0m \u001b[0;31m#pour ensuite effectué à nouveau un plot. Nous avons \"simplifié\" la data, ici CRIM.\u001b[0m\u001b[0;34m\u001b[0m\u001b[0;34m\u001b[0m\u001b[0m\n\u001b[0;32m----> 4\u001b[0;31m \u001b[0mplt\u001b[0m\u001b[0;34m.\u001b[0m\u001b[0mplot\u001b[0m\u001b[0;34m(\u001b[0m\u001b[0mlog_crim\u001b[0m\u001b[0;34m,\u001b[0m\u001b[0mY\u001b[0m\u001b[0;34m,\u001b[0m\u001b[0;34m'bo'\u001b[0m\u001b[0;34m)\u001b[0m\u001b[0;34m\u001b[0m\u001b[0m\n\u001b[0m",
      "\u001b[0;31mNameError\u001b[0m: name 'log_crim' is not defined"
     ]
    }
   ],
   "source": [
    "#difficile d'interpréter quoi ce sois ici.il faut que nous fassions un log de CRIM\n",
    "Log_crim=np.log(crim)\n",
    "#pour ensuite effectué à nouveau un plot. Nous avons \"simplifié\" la data, ici CRIM.\n",
    "plt.plot(log_,Y,'bo')"
   ]
  },
  {
   "cell_type": "code",
   "execution_count": null,
   "metadata": {},
   "outputs": [],
   "source": []
  }
 ],
 "metadata": {
  "kernelspec": {
   "display_name": "Python 3",
   "language": "python",
   "name": "python3"
  },
  "language_info": {
   "codemirror_mode": {
    "name": "ipython",
    "version": 3
   },
   "file_extension": ".py",
   "mimetype": "text/x-python",
   "name": "python",
   "nbconvert_exporter": "python",
   "pygments_lexer": "ipython3",
   "version": "3.7.0"
  }
 },
 "nbformat": 4,
 "nbformat_minor": 2
}
